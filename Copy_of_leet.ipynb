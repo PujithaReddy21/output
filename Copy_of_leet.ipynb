{
  "nbformat": 4,
  "nbformat_minor": 0,
  "metadata": {
    "colab": {
      "provenance": [],
      "authorship_tag": "ABX9TyNEML5Z2+vM5PpuitJMiWEy",
      "include_colab_link": true
    },
    "kernelspec": {
      "name": "python3",
      "display_name": "Python 3"
    },
    "language_info": {
      "name": "python"
    }
  },
  "cells": [
    {
      "cell_type": "markdown",
      "metadata": {
        "id": "view-in-github",
        "colab_type": "text"
      },
      "source": [
        "<a href=\"https://colab.research.google.com/github/PujithaReddy21/output/blob/main/Copy_of_leet.ipynb\" target=\"_parent\"><img src=\"https://colab.research.google.com/assets/colab-badge.svg\" alt=\"Open In Colab\"/></a>"
      ]
    },
    {
      "cell_type": "code",
      "execution_count": null,
      "metadata": {
        "colab": {
          "base_uri": "https://localhost:8080/"
        },
        "id": "KLmBiTRGQXJb",
        "outputId": "13e55774-371e-4034-f8e9-616b17c2bb6d"
      },
      "outputs": [
        {
          "output_type": "stream",
          "name": "stdout",
          "text": [
            "Integer form of Roman Numeral is\n",
            "1106\n"
          ]
        }
      ],
      "source": [
        "\n",
        "def value(r):\n",
        "    if (r == 'I'):\n",
        "        return 1\n",
        "    if (r == 'V'):\n",
        "        return 5\n",
        "    if (r == 'X'):\n",
        "        return 10\n",
        "    if (r == 'L'):\n",
        "        return 50\n",
        "    if (r == 'C'):\n",
        "        return 100\n",
        "    if (r == 'D'):\n",
        "        return 500\n",
        "    if (r == 'M'):\n",
        "        return 1000\n",
        "    return -1\n",
        " \n",
        " \n",
        "def romanToDecimal(str):\n",
        "    res = 0\n",
        "    i = 0\n",
        " \n",
        "    while (i < len(str)):\n",
        " \n",
        "        # Getting value of symbol s[i]\n",
        "        s1 = value(str[i])\n",
        " \n",
        "        if (i + 1 < len(str)):\n",
        " \n",
        "            # Getting value of symbol s[i + 1]\n",
        "            s2 = value(str[i + 1])\n",
        " \n",
        "            # Comparing both values\n",
        "            if (s1 >= s2):\n",
        " \n",
        "                # Value of current symbol is greater\n",
        "                # or equal to the next symbol\n",
        "                res = res + s1\n",
        "                i = i + 1\n",
        "            else:\n",
        " \n",
        "                # Value of current symbol is greater\n",
        "                # or equal to the next symbol\n",
        "                res = res + s2 - s1\n",
        "                i = i + 2\n",
        "        else:\n",
        "            res = res + s1\n",
        "            i = i + 1\n",
        " \n",
        "    return res\n",
        " \n"
      ]
    },
    {
      "cell_type": "code",
      "source": [
        "def twoSumNaive(n, sum):\n",
        "  for i in range(len(n) - 1):\n",
        "   for j in range(i + 1, len(n)):\n",
        "    if n[i] + n[j] == sum:\n",
        "        print(\"two sum\", sum,\"is: (\", n[i],\",\",n[j],\")\")\n",
        "\n",
        "n = [3, 5, 2, -4, 8, 11]\n",
        "sum = 7\n",
        "\n",
        "twoSumNaive(n, sum) \n"
      ],
      "metadata": {
        "colab": {
          "base_uri": "https://localhost:8080/"
        },
        "id": "wINJ3GX0QyJP",
        "outputId": "2e58ed06-d55d-4bab-e1e3-603a9a4e0aa0"
      },
      "execution_count": null,
      "outputs": [
        {
          "output_type": "stream",
          "name": "stdout",
          "text": [
            "two sum 7 is: ( 5 , 2 )\n",
            "two sum 7 is: ( -4 , 11 )\n"
          ]
        }
      ]
    },
    {
      "cell_type": "code",
      "source": [
        "#remove element\n",
        "\n",
        "l= [10,9,21,22,16,26,27]\n",
        "print(l)\n",
        "\n",
        "print(l.pop(-2))\n",
        "\n",
        "print(l)\n",
        "\n",
        "\n",
        "print(l.pop(5))\n"
      ],
      "metadata": {
        "colab": {
          "base_uri": "https://localhost:8080/"
        },
        "id": "ff-rDvN6E2Gw",
        "outputId": "d66efa4e-e582-4b67-c17b-631321e5e79b"
      },
      "execution_count": null,
      "outputs": [
        {
          "output_type": "stream",
          "name": "stdout",
          "text": [
            "[10, 9, 21, 22, 16, 26, 27]\n",
            "26\n",
            "[10, 9, 21, 22, 16, 27]\n",
            "27\n"
          ]
        }
      ]
    },
    {
      "cell_type": "code",
      "source": [
        "#remove duplicates from sorted array"
      ],
      "metadata": {
        "id": "WYwaSurWFxBn"
      },
      "execution_count": null,
      "outputs": []
    }
  ]
}