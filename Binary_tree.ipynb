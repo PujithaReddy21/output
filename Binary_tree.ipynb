{
  "nbformat": 4,
  "nbformat_minor": 0,
  "metadata": {
    "colab": {
      "provenance": [],
      "authorship_tag": "ABX9TyNXEJc35laaSDLOHYuTp/cw",
      "include_colab_link": true
    },
    "kernelspec": {
      "name": "python3",
      "display_name": "Python 3"
    },
    "language_info": {
      "name": "python"
    }
  },
  "cells": [
    {
      "cell_type": "markdown",
      "metadata": {
        "id": "view-in-github",
        "colab_type": "text"
      },
      "source": [
        "<a href=\"https://colab.research.google.com/github/PujithaReddy21/output/blob/main/Binary_tree.ipynb\" target=\"_parent\"><img src=\"https://colab.research.google.com/assets/colab-badge.svg\" alt=\"Open In Colab\"/></a>"
      ]
    },
    {
      "cell_type": "code",
      "source": [],
      "metadata": {
        "id": "hd4F7ITwZrjX"
      },
      "execution_count": null,
      "outputs": []
    },
    {
      "cell_type": "code",
      "execution_count": 6,
      "metadata": {
        "colab": {
          "base_uri": "https://localhost:8080/"
        },
        "id": "lNs9MrxFz4Lu",
        "outputId": "6e0bc540-f887-47d2-949f-b685efb786dc"
      },
      "outputs": [
        {
          "output_type": "stream",
          "name": "stdout",
          "text": [
            "preorder: 12435\n",
            "Inorder:  42135\n",
            "postorder:  42531"
          ]
        }
      ],
      "source": [
        "#binary tree\n",
        "class Node:\n",
        "  def __init__(self,key):\n",
        "    self.left = None\n",
        "    self.right = None\n",
        "    self.val = key\n",
        "  def preorder(self):\n",
        "    print(self.val,end=\"\")\n",
        "    if self.left:\n",
        "      self.left.preorder()\n",
        "    if self.right:\n",
        "      self.right.preorder()\n",
        "  def inorder(self):\n",
        "    if self.left:\n",
        "      self.left.inorder()\n",
        "    print(self.val,end=\"\")\n",
        "    if self.right:\n",
        "      self.right.inorder()    \n",
        "  def postorder(self):\n",
        "    if self.left:\n",
        "      self.left.postorder()\n",
        "    if self.right:\n",
        "      self.right.postorder()    \n",
        "    print(self.val,end=\"\")\n",
        "\n",
        "root =Node(1)\n",
        "root.left =Node(2)\n",
        "root.right=Node(3)\n",
        "root.left.left =Node(4)\n",
        "root.right.right =Node(5)\n",
        "\n",
        "print(\"preorder:\",end=\" \")\n",
        "root.preorder()\n",
        "\n",
        "print(\"\\nInorder: \",end=\" \")\n",
        "root.inorder()\n",
        "\n",
        "print(\"\\npostorder: \",end=\" \")\n",
        "root.postorder()"
      ]
    },
    {
      "cell_type": "code",
      "source": [
        "9"
      ],
      "metadata": {
        "id": "uXNcTLmTWymw"
      },
      "execution_count": null,
      "outputs": []
    }
  ]
}